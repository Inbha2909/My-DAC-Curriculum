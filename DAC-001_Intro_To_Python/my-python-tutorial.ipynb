{
 "cells": [
  {
   "cell_type": "code",
   "execution_count": 6,
   "metadata": {},
   "outputs": [
    {
     "name": "stdout",
     "output_type": "stream",
     "text": [
      "['apple', 'orange', 'banana']\n",
      "['apple', 'orange', 'banana', 'tomato']\n",
      "['orange', 'banana', 'tomato']\n"
     ]
    }
   ],
   "source": [
    "#Q1\n",
    "\n",
    "fruits = ['apple','orange','banana']\n",
    "print(fruits)\n",
    "fruits.insert(3,'tomato')\n",
    "print(fruits)\n",
    "fruits.remove(\"apple\")\n",
    "print(fruits)\n"
   ]
  },
  {
   "cell_type": "code",
   "execution_count": 15,
   "metadata": {},
   "outputs": [
    {
     "name": "stdout",
     "output_type": "stream",
     "text": [
      "('physics', 'chemistry', 'english', 'math', 'biology')\n",
      "['physics', 'chemistry', 'english', 'math', 'biology', 'literature']\n",
      "('physics', 'chemistry', 'english', 'math', 'biology', 'literature')\n",
      "6\n"
     ]
    }
   ],
   "source": [
    "#Q2\n",
    "\n",
    "subjects = ('physics', 'chemistry','english','math', 'biology')\n",
    "print(subjects)\n",
    "type(subjects)\n",
    "sublist=list(subjects)\n",
    "sublist.append('literature')\n",
    "print(sublist)\n",
    "convert_tuple = tuple(sublist)\n",
    "print(convert_tuple)\n",
    "no_elements = len(convert_tuple)\n",
    "print(no_elements)\n"
   ]
  },
  {
   "cell_type": "markdown",
   "metadata": {},
   "source": [
    "\n",
    "\n",
    "Question 4: Generating Lists\n",
    "Task:\n",
    "Generate a list of numbers starting from 15 and decreasing by 3 each step, until the number is positive (not inclusive of zero). Store it in a variable named desc_list."
   ]
  },
  {
   "cell_type": "code",
   "execution_count": 24,
   "metadata": {},
   "outputs": [
    {
     "name": "stdout",
     "output_type": "stream",
     "text": [
      "[10, 9, 8, 7, 6, 3]\n",
      "[]\n"
     ]
    }
   ],
   "source": [
    "#3\n",
    "student_id = [10,6,7,8,9,3]\n",
    "type(student_id)\n",
    "sorted_student_id = sorted(student_id)\n",
    "sorted_student_id.reverse()\n",
    "print(sorted_student_id)\n",
    "sorted_student_id.clear()\n",
    "print(sorted_student_id)\n",
    "\n"
   ]
  },
  {
   "cell_type": "code",
   "execution_count": 47,
   "metadata": {},
   "outputs": [
    {
     "name": "stdout",
     "output_type": "stream",
     "text": [
      "12\n",
      "9\n",
      "6\n",
      "3\n"
     ]
    }
   ],
   "source": [
    "\n",
    "desc_list=15\n",
    "while desc_list<=15 :\n",
    "    desc_list= desc_list-3\n",
    "    if desc_list==0:\n",
    "        break\n",
    "    print(desc_list)\n",
    "    \n",
    "\n",
    "    \n",
    "    "
   ]
  },
  {
   "cell_type": "markdown",
   "metadata": {},
   "source": []
  }
 ],
 "metadata": {
  "kernelspec": {
   "display_name": "Python 3",
   "language": "python",
   "name": "python3"
  },
  "language_info": {
   "codemirror_mode": {
    "name": "ipython",
    "version": 3
   },
   "file_extension": ".py",
   "mimetype": "text/x-python",
   "name": "python",
   "nbconvert_exporter": "python",
   "pygments_lexer": "ipython3",
   "version": "3.12.6"
  }
 },
 "nbformat": 4,
 "nbformat_minor": 2
}
