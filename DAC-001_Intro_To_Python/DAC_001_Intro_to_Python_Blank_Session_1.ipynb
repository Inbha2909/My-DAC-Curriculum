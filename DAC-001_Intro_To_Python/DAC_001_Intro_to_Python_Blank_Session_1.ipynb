{
  "cells": [
    {
      "cell_type": "markdown",
      "metadata": {
        "id": "XB1Co0jipXyX"
      },
      "source": [
        "# DACademy Session 1: Basic GitHub + Intro to Python\n"
      ]
    },
    {
      "cell_type": "markdown",
      "metadata": {
        "id": "kdzTsQtK0YPu"
      },
      "source": [
        "## Comments and Print Statements:"
      ]
    },
    {
      "cell_type": "code",
      "execution_count": 4,
      "metadata": {
        "colab": {
          "base_uri": "https://localhost:8080/",
          "height": 35
        },
        "id": "v-2yQ1QS0YPu",
        "outputId": "bb68f5c7-7d01-4acf-950d-d3e910fdc4db"
      },
      "outputs": [
        {
          "name": "stdout",
          "output_type": "stream",
          "text": [
            "Hello World\n"
          ]
        }
      ],
      "source": [
        "# Welcome to DAC!\n",
        "# Single-line comments use the hash symbol (#)\n",
        "# Comments are useful for explaining code or for temporary debugging\n",
        "\n",
        "\"\"\"\n",
        "Multi-line comments are created using triple quotes.\n",
        "They can span multiple lines and are often used for detailed explanations or documentation.\n",
        "Hi hi hi hi hi\n",
        "\"\"\"\n",
        "\n",
        "# The print() function is used to display output\n",
        "print(\"Hello World\")"
      ]
    },
    {
      "cell_type": "markdown",
      "metadata": {
        "id": "8Cy9F5sHZ4-B"
      },
      "source": [
        "**Keyboard Shortcuts to Run Code**\n",
        "\n",
        "\n",
        "*   Mac: Command (⌘) + Enter\n",
        "*   Windows: Ctrl + Enter\n"
      ]
    },
    {
      "cell_type": "code",
      "execution_count": 5,
      "metadata": {
        "id": "0Iyg-UKUZsLy"
      },
      "outputs": [
        {
          "name": "stdout",
          "output_type": "stream",
          "text": [
            "inbha\n"
          ]
        }
      ],
      "source": [
        "# Now try printing your name!\n",
        "print('inbha')"
      ]
    },
    {
      "cell_type": "markdown",
      "metadata": {
        "id": "xyKWUB-Q0YPv"
      },
      "source": [
        "## Basic Arithmetic Operations and Data Types"
      ]
    },
    {
      "cell_type": "code",
      "execution_count": 6,
      "metadata": {
        "id": "dvXP5FTPdLFk"
      },
      "outputs": [
        {
          "name": "stdout",
          "output_type": "stream",
          "text": [
            "11\n",
            "5\n",
            "24\n",
            "2.6666666666666665\n",
            "2\n",
            "512\n"
          ]
        }
      ],
      "source": [
        "# Arithmetic Operators: + - * / % **\n",
        "\n",
        "# Addition +\n",
        "print(8 + 3)\n",
        "\n",
        "# Subtraction -\n",
        "print(8 - 3)\n",
        "\n",
        "# Multiplication *\n",
        "print(8 * 3)\n",
        "\n",
        "# Division /\n",
        "print(8 / 3)\n",
        "\n",
        "# Modulo % (Gives the remainder of division, e.g., 8 % 3 = 2)\n",
        "print(8 % 3)\n",
        "\n",
        "# Exponentiation **\n",
        "print(8 ** 3)"
      ]
    },
    {
      "cell_type": "code",
      "execution_count": 7,
      "metadata": {
        "colab": {
          "base_uri": "https://localhost:8080/"
        },
        "id": "8dNEkPQ30YPw",
        "outputId": "88851191-2cf0-4a89-8463-f66016be0cd9"
      },
      "outputs": [
        {
          "name": "stdout",
          "output_type": "stream",
          "text": [
            "!@#$%jkwewuorweprh6546846515648646546\n"
          ]
        }
      ],
      "source": [
        "# Text inside quotes is known as a string\n",
        "# Can use either \"\" or '', both work the same\n",
        "print(\"meow meow \")\n",
        "print('meow meow')\n",
        "\n",
        "# This is to show you that the string can contain any special characters\n",
        "print(\"!@#$%jkwewuorweprh6546846515648646546\")\n",
        "\n",
        "# Integers are whole numbers\n",
        "print(10)\n",
        "\n",
        "# Long Integers (Python automatically handles big integers)\n",
        "print(2**32) # This computes 2 to the power of 32\n",
        "\n",
        "# Floats represent decimal numbers\n",
        "print(3.14)\n",
        "\n",
        "# Complex Numbers use 'j' to represent the imaginary part\n",
        "print(2+3j)"
      ]
    },
    {
      "cell_type": "markdown",
      "metadata": {
        "id": "DmJBgrZy0YPw"
      },
      "source": [
        "## Boolean\n",
        "*   Booleans represent one of two values: True or False.\n",
        "\n"
      ]
    },
    {
      "cell_type": "code",
      "execution_count": 8,
      "metadata": {
        "id": "tUXDV62x0YPw"
      },
      "outputs": [],
      "source": [
        "a = 5\n",
        "b = 10 % 3  # Modulus operation gives the remainder of 10 divided by 3 (which is 1)\n",
        "c = bool(a == b)  # bool() converts the result of the comparison to True or False\n",
        "print(c)  # This will print False since 5 is not equal to 1"
      ]
    },
    {
      "cell_type": "code",
      "execution_count": 9,
      "metadata": {
        "id": "rMT50ucpfk8k"
      },
      "outputs": [],
      "source": [
        "# Equals ==\n",
        "print(5==5)\n",
        "print(5==4)\n",
        "\n",
        "# Inqual !=\n",
        "print(5!= 6)\n",
        "\n",
        "# More than >\n",
        "print(5>4)\n",
        "\n",
        "# More than and equal to >=\n",
        "print(6 >= 4)\n",
        "\n",
        "# Less than <\n",
        "print(6 < 4)\n",
        "\n",
        "# Less than and equal to <=\n",
        "print(6 <= 4)"
      ]
    },
    {
      "cell_type": "code",
      "execution_count": 10,
      "metadata": {
        "id": "DuSwiBLf4FbJ"
      },
      "outputs": [],
      "source": [
        "# Using Boolean to find the Data Type of a Variable\n",
        "# Use type() to find the data type of a value or variable\n",
        "\n",
        "a = True # A Boolean value can be either True or False.\n",
        "print(type(a))  # This checks the type of 'a' and will return <class 'bool'>\n",
        "\n",
        "# Checking the type of a string\n",
        "print(type(\"I love dac\"))  # This will return <class 'str'>, indicating it's a string.\n",
        "\n",
        "# Checking the type of an integer\n",
        "print(type(4))  # This will return <class 'int'>, indicating it's an integer."
      ]
    },
    {
      "cell_type": "markdown",
      "metadata": {
        "id": "UHZRrqmecVhV"
      },
      "source": [
        "## Converting Data types"
      ]
    },
    {
      "cell_type": "code",
      "execution_count": 11,
      "metadata": {
        "id": "lRjGQ9i_cQsH"
      },
      "outputs": [],
      "source": [
        "# Convert a float to an integer\n",
        "print(int(6.555555))  # Output: 6\n",
        "\n",
        "# Convert an integer to a float\n",
        "print(float(3))  # Output: 3.0\n",
        "\n",
        "# Convert an integer to a string and print its type\n",
        "print(type(str(6)))  # Output: <class 'str'>\n",
        "\n",
        "# Convert a non-zero integer to a boolean\n",
        "print(bool(5))  # Output: True (Any non-zero value is considered True)\n",
        "\n",
        "# Note on variable naming:\n",
        "# It's best to avoid using function names as variable names to prevent confusion.\n",
        "decimal_value = 3.1423  # Use descriptive names for clarity\n",
        "print(decimal_value)\n",
        "\n",
        "number = 5  # Keep the variable name clear and relevant\n",
        "print(number)"
      ]
    },
    {
      "cell_type": "markdown",
      "metadata": {
        "id": "ixpdw3X90YPx"
      },
      "source": [
        "## Sequence Types: Strings, Lists, and Tuples"
      ]
    },
    {
      "cell_type": "markdown",
      "metadata": {
        "id": "FS4VoI660YPx"
      },
      "source": [
        "### Working with Strings"
      ]
    },
    {
      "cell_type": "code",
      "execution_count": 3,
      "metadata": {
        "id": "cVENYK1E0YPx"
      },
      "outputs": [
        {
          "name": "stdout",
          "output_type": "stream",
          "text": [
            "inbha\n",
            "Full Name: inbha h\n",
            "Full Name: inbha h\n"
          ]
        }
      ],
      "source": [
        "# Creating strings\n",
        "name = \"inbha\"\n",
        "print(name)\n",
        "\n",
        "# Combining strings\n",
        "last_name = \"h\"\n",
        "print(\"Full Name: \" + name + \" \" + last_name)  # Remember to include spaces within the quotes; otherwise, the result will be \"JunYo\" instead of \"Jun Yo\".\n",
        "\n",
        "# Alternative Method for String Formatting\n",
        "print(\"Full Name: {0} {1}\".format(name, last_name))  # The numbers {0} and {1} correspond to the respective order of the variables: inbha = 0, h = 1."
      ]
    },
    {
      "cell_type": "markdown",
      "metadata": {
        "id": "Do3QkLBS0YPy"
      },
      "source": [
        "### Working with Lists\n",
        "\n",
        "*   [ ]\n",
        "*   It is used to store multiple items in a single variable\n",
        "\n"
      ]
    },
    {
      "cell_type": "markdown",
      "metadata": {
        "id": "UJljv0JyI3MJ"
      },
      "source": [
        "Just some things to note\n",
        "\n",
        "(Example)\n",
        "In the list: list4 = [3, 1, 4, 1, 5]\n",
        "\n",
        "*   **list4** is the **variable** that stores the list.\n",
        "*   **3, 1, 4, 1, 5** are the **elements** in the list.\n",
        "*   **Indexes** represent the **position** of each element, **starting from 0:**\n",
        "     *   '3' is at index 0\n",
        "     *   '1' is at index 1\n",
        "     *   '4' is at index 2\n",
        "     *   '1' is at index 3\n",
        "     *   '5' is at index 4\n",
        "\n",
        "\n",
        "\n",
        "\n",
        "\n",
        "\n",
        "\n",
        "\n",
        "\n",
        "\n",
        "\n",
        "\n",
        "\n",
        "\n"
      ]
    },
    {
      "cell_type": "code",
      "execution_count": 24,
      "metadata": {
        "id": "g8SngCyXoqGt"
      },
      "outputs": [
        {
          "name": "stdout",
          "output_type": "stream",
          "text": [
            "[]\n",
            "['S', 'L', 'A', 'Y']\n",
            "[True, 'Slay', 173, 3.14]\n"
          ]
        }
      ],
      "source": [
        "list1 = [] # Empty list\n",
        "print(list1)\n",
        "\n",
        "list2 = [\"S\", \"L\", \"A\", \"Y\"]\n",
        "print(list2)\n",
        "\n",
        "mixedlist = [True, \"Slay\", 173, 3.14] # List with different data types\n",
        "print(mixedlist)\n"
      ]
    },
    {
      "cell_type": "code",
      "execution_count": 25,
      "metadata": {
        "colab": {
          "base_uri": "https://localhost:8080/",
          "height": 70
        },
        "id": "WgtIoTQapNJC",
        "outputId": "2b171962-0c64-4b77-e183-8e2771ebf33a"
      },
      "outputs": [
        {
          "name": "stdout",
          "output_type": "stream",
          "text": [
            "[1, 'yayy']\n",
            "[True, 'Slay', 173, 3.14, 'yay']\n"
          ]
        },
        {
          "data": {
            "text/plain": [
              "'\\nNote on the append() method:\\n\\nThe append() method adds the element to the end of the list each time it is executed.\\nCalling append() multiple times (i.e., running this code again) will continue to add the elements to the existing list, rather than starting over.\\n(So, the same element will be added twice if you run the code twice, three times if you run it three times, and so on.)\\nTo reset the list, you can reinitialize it (rerun the code from the beginning).\\n'"
            ]
          },
          "execution_count": 25,
          "metadata": {},
          "output_type": "execute_result"
        }
      ],
      "source": [
        "# Adding elements to a list using the above variables\n",
        "list1.append(1)\n",
        "list1.append(\"yayy\")\n",
        "print(list1)\n",
        "\n",
        "  # Adding an integer to the list\n",
        "  # Adding a string to the list\n",
        "  # Output: [1, \"AHH\"]\n",
        "\n",
        "mixedlist.append(\"yay\")  # Adding a string to the mixed list\n",
        "print(mixedlist)  # Output: [True, 'Slay', 173, 3.14, 'AHH']\n",
        "\n",
        "\"\"\"\n",
        "Note on the append() method:\n",
        "\n",
        "The append() method adds the element to the end of the list each time it is executed.\n",
        "Calling append() multiple times (i.e., running this code again) will continue to add the elements to the existing list, rather than starting over.\n",
        "(So, the same element will be added twice if you run the code twice, three times if you run it three times, and so on.)\n",
        "To reset the list, you can reinitialize it (rerun the code from the beginning).\n",
        "\"\"\""
      ]
    },
    {
      "cell_type": "code",
      "execution_count": 26,
      "metadata": {
        "id": "EhMqwM-w0YPy"
      },
      "outputs": [
        {
          "name": "stdout",
          "output_type": "stream",
          "text": [
            "[50, 1, 'yayy']\n"
          ]
        }
      ],
      "source": [
        "# Inserting elements into a list at a specific position\n",
        "# Syntax: list_.insert(position, item)\n",
        "list1.insert(0,50)\n",
        "print(list1)\n",
        "\n",
        "  # Insert the number 50 at the 0th index (1st number is the position, 2nd is the element to add)\n",
        "  # Output will show 50 at the start of the list"
      ]
    },
    {
      "cell_type": "code",
      "execution_count": 27,
      "metadata": {
        "id": "NYr5u52Rwy6h"
      },
      "outputs": [
        {
          "name": "stdout",
          "output_type": "stream",
          "text": [
            "[1, 'yayy']\n"
          ]
        }
      ],
      "source": [
        "# Deleting elements from a list\n",
        "\n",
        "# Using `del` to delete by index\n",
        "del list1[0] # Deletes the element at index 0 (1st element in the list)\n",
        "print(list1) # Output: List with the 1st element removed"
      ]
    },
    {
      "cell_type": "code",
      "execution_count": 28,
      "metadata": {
        "id": "Q05F_xXdFdpx"
      },
      "outputs": [
        {
          "name": "stdout",
          "output_type": "stream",
          "text": [
            "[1]\n"
          ]
        }
      ],
      "source": [
        "# Alternative Method for Deleting elements from a list\n",
        "\n",
        "# Using `remove()` to delete by value\n",
        "list1.remove(\"yayy\") # Removes the first occurrence of the value 50 from the list\n",
        "print(list1) # Output: List without the first 50"
      ]
    },
    {
      "cell_type": "code",
      "execution_count": 3,
      "metadata": {
        "id": "Qxd8-H6oG0a0"
      },
      "outputs": [
        {
          "name": "stdout",
          "output_type": "stream",
          "text": [
            "0\n"
          ]
        }
      ],
      "source": [
        "# List Indexing\n",
        "list4=[3,1,4,1,5]\n",
        "index_list4=list4.index(3) # Finds the index position of the element '3' in the list\n",
        "print(index_list4) # Output: 0 (since '3' is at the 0th index)"
      ]
    },
    {
      "cell_type": "code",
      "execution_count": 5,
      "metadata": {
        "id": "JTsF0nfmSINs"
      },
      "outputs": [
        {
          "name": "stdout",
          "output_type": "stream",
          "text": [
            "1\n",
            "5\n",
            "minimum value  1\n",
            "maximum value: 5\n"
          ]
        }
      ],
      "source": [
        "# Finding minimum and maximum values in a list\n",
        "min_list4 = min(list4) # Use the min() function to find the smallest element in list4\n",
        "max_list4 = max(list4) # Use the max() function to find the largest element in list4\n",
        "print(min_list4)\n",
        "print(max_list4)\n",
        "\n",
        "\n",
        "\n",
        "# With labels\n",
        "print(\"minimum value \", min_list4 ) # Output the minimum value\n",
        "print(\"maximum value:\", max_list4)  # Output the maximum value"
      ]
    },
    {
      "cell_type": "code",
      "execution_count": 6,
      "metadata": {
        "id": "vc5SVEzvBK33"
      },
      "outputs": [
        {
          "name": "stdout",
          "output_type": "stream",
          "text": [
            "[1, 2, 3, 4, 4, 5, 6, 9]\n"
          ]
        }
      ],
      "source": [
        "\n",
        "listNum = [4,2,1,3,4,6,5,9]\n",
        "sorted_list_numlist =sorted(listNum)\n",
        "print(sorted_list_numlist)\n",
        " # Use the sorted() function to sort the list\n",
        " # Output the sorted list"
      ]
    },
    {
      "cell_type": "code",
      "execution_count": 8,
      "metadata": {
        "id": "dI6AzeKIBrvB"
      },
      "outputs": [
        {
          "name": "stdout",
          "output_type": "stream",
          "text": [
            "[9, 7, 6, 1, 2, 3, 8, 7, 5]\n"
          ]
        }
      ],
      "source": [
        "listnum2 = [5,7,8,3,2,1,6,7,9]\n",
        "listnum2.reverse() # Reverse listNum2\n",
        "print(listnum2)# Otput the reversed list"
      ]
    },
    {
      "cell_type": "code",
      "execution_count": 9,
      "metadata": {
        "id": "zlonSikNCFQj"
      },
      "outputs": [
        {
          "name": "stdout",
          "output_type": "stream",
          "text": [
            "[]\n"
          ]
        }
      ],
      "source": [
        "listnum2 = [5,7,8,3,2,1,6,7,9]\n",
        "listnum2.clear() \n",
        "print(listnum2)\n",
        " # Clear all elements from the list\n",
        " # Print the cleared list"
      ]
    },
    {
      "cell_type": "code",
      "execution_count": 10,
      "metadata": {
        "id": "ZLm22sE7CJ_t"
      },
      "outputs": [
        {
          "name": "stdout",
          "output_type": "stream",
          "text": [
            "['m', 'a', 'y', 'a', 6]\n"
          ]
        }
      ],
      "source": [
        "list5 = [\"m\",\"a\",\"y\"]\n",
        "list6 = [\"a\",6]\n",
        "listAdded = list5 + list6 \n",
        "print(listAdded)\n",
        "\n",
        " # Add the two lists together\n",
        " # Output the added list"
      ]
    },
    {
      "cell_type": "code",
      "execution_count": 11,
      "metadata": {
        "id": "u3FYS3JZCgkc"
      },
      "outputs": [
        {
          "name": "stdout",
          "output_type": "stream",
          "text": [
            "['inbha', 'h', 'inbha', 'h']\n"
          ]
        }
      ],
      "source": [
        "listnames = [\"inbha\",\"h\"]\n",
        "listmultiplied = listnames *2 \n",
        "print(listmultiplied)\n",
        " # Multiply the list by 2\n",
        " # Output the multiplied list"
      ]
    },
    {
      "cell_type": "markdown",
      "metadata": {
        "id": "_YLFb-WGDCs8"
      },
      "source": [
        "### Working with Tuples\n",
        "- Immutable\n",
        "- It is a ordered sequence of values"
      ]
    },
    {
      "cell_type": "code",
      "execution_count": 12,
      "metadata": {
        "id": "kwrmo-XJ0YPy"
      },
      "outputs": [
        {
          "data": {
            "text/plain": [
              "tuple"
            ]
          },
          "execution_count": 12,
          "metadata": {},
          "output_type": "execute_result"
        }
      ],
      "source": [
        "\n",
        " # Check the type of the 'parents' variable\n",
        "dance =(\"jazz\",'tap')\n",
        "type(dance)"
      ]
    },
    {
      "cell_type": "code",
      "execution_count": 13,
      "metadata": {
        "id": "K_PTgd_aEKEI"
      },
      "outputs": [
        {
          "name": "stdout",
          "output_type": "stream",
          "text": [
            "['jazz', 'tap']\n"
          ]
        },
        {
          "data": {
            "text/plain": [
              "list"
            ]
          },
          "execution_count": 13,
          "metadata": {},
          "output_type": "execute_result"
        }
      ],
      "source": [
        "tuplelist = list(dance)\n",
        "print(tuplelist)\n",
        "type(tuplelist)\n",
        " # Output the list\n",
        " # Check the type of 'tuplelist'"
      ]
    },
    {
      "cell_type": "code",
      "execution_count": 23,
      "metadata": {
        "id": "MLliO46RElXM"
      },
      "outputs": [
        {
          "name": "stdout",
          "output_type": "stream",
          "text": [
            "['jazz', 'tap', 'ballet', 'ballet,Hip Hope, Salsa']\n"
          ]
        }
      ],
      "source": [
        "tuplelist.append(\"ballet,Hip Hope, Salsa\")\n",
        "print(tuplelist)\n",
        " # Add new line to the list 'tuplelist'\n",
        " # Output the updated list"
      ]
    },
    {
      "cell_type": "code",
      "execution_count": 21,
      "metadata": {
        "id": "32Wg2x89GuXA"
      },
      "outputs": [
        {
          "name": "stdout",
          "output_type": "stream",
          "text": [
            "('jazz', 'tap', 'ballet')\n"
          ]
        }
      ],
      "source": [
        " # Convert the list 'tuplelist' back to a tuple\n",
        "tuplelist.append(\"ballet\")\n",
        "\n",
        " # Check the value of the new tuple\n",
        "new_tuple = tuple(tuplelist)\n",
        "print(new_tuple)\n"
      ]
    },
    {
      "cell_type": "code",
      "execution_count": 22,
      "metadata": {
        "id": "SS3bxGkbG-vl"
      },
      "outputs": [
        {
          "name": "stdout",
          "output_type": "stream",
          "text": [
            "3\n"
          ]
        }
      ],
      "source": [
        " # Get the length of the list 'tuplelist'\n",
        "length_of_tuplelist = len(tuplelist)\n",
        "print(length_of_tuplelist)\n",
        " # Output of the length"
      ]
    },
    {
      "cell_type": "markdown",
      "metadata": {
        "id": "ZCXp6Jhg0YPy"
      },
      "source": [
        "## Working with Sets\n",
        "\n",
        "{ }\n",
        "- It is an unordered collection with no duplicate elements\n",
        "- Computer implementation of the mathematical concept of a finite set\n",
        "- Mutable"
      ]
    },
    {
      "cell_type": "code",
      "execution_count": 29,
      "metadata": {
        "id": "B5vdCq3P0YPy"
      },
      "outputs": [
        {
          "name": "stdout",
          "output_type": "stream",
          "text": [
            "{'dog', 'cat', 'wolf'}\n"
          ]
        }
      ],
      "source": [
        "\n",
        " # Output of the set\n",
        "x={\"dog\",\"cat\",\"wolf\"}\n",
        "print(x)"
      ]
    },
    {
      "cell_type": "code",
      "execution_count": 30,
      "metadata": {
        "id": "VgrBbY_1HrNx"
      },
      "outputs": [
        {
          "name": "stdout",
          "output_type": "stream",
          "text": [
            "{'dog', 'cat', 'wolf', 'fish'}\n"
          ]
        }
      ],
      "source": [
        " # Add an element to the set\n",
        " # Output of the updated set\n",
        "\n",
        "x.add(\"fish\")\n",
        "print(x)"
      ]
    },
    {
      "cell_type": "code",
      "execution_count": 31,
      "metadata": {
        "id": "MbMyt-oQH80_"
      },
      "outputs": [
        {
          "name": "stdout",
          "output_type": "stream",
          "text": [
            "{'dog', 'wolf', 'fish'}\n"
          ]
        }
      ],
      "source": [
        " # Remove an element from the set\n",
        "x.remove('cat')\n",
        "print(x)\n",
        " # Output of the updated set"
      ]
    },
    {
      "cell_type": "code",
      "execution_count": 33,
      "metadata": {
        "id": "Z6V43JC2IaLt"
      },
      "outputs": [
        {
          "name": "stdout",
          "output_type": "stream",
          "text": [
            "{2, (1, 2, 3), 4.3, 'Hello'}\n"
          ]
        }
      ],
      "source": [
        "z = {(1,2,3),\"Hello\",2,4.3}\n",
        "\n",
        "print(z) # Output of the set"
      ]
    },
    {
      "cell_type": "code",
      "execution_count": 35,
      "metadata": {
        "id": "sdYsD2okI5cZ"
      },
      "outputs": [
        {
          "name": "stdout",
          "output_type": "stream",
          "text": [
            "[1, 2, 3, 4, 5, 7, 4]\n",
            "{1, 2, 3, 4, 5, 7}\n",
            "<class 'set'>\n"
          ]
        }
      ],
      "source": [
        "\n",
        " # Output of the original list\n",
        "r = [1,2,3,4,5,7,4]\n",
        "print(r)\n",
        "\n",
        "\n",
        " # Convert the list to a set (to remove duplicates)\n",
        " # Output of the converted set\n",
        "r_set = set(r)\n",
        "print(r_set)\n",
        "\n",
        "\n",
        " # Check the data type of r_set\n",
        " # Output of the converted set\n",
        "type_of_r_set = type(r_set)\n",
        "print(type_of_r_set)\n"
      ]
    }
  ],
  "metadata": {
    "colab": {
      "collapsed_sections": [
        "FS4VoI660YPx"
      ],
      "provenance": []
    },
    "kernelspec": {
      "display_name": "Python 3",
      "language": "python",
      "name": "python3"
    },
    "language_info": {
      "codemirror_mode": {
        "name": "ipython",
        "version": 3
      },
      "file_extension": ".py",
      "mimetype": "text/x-python",
      "name": "python",
      "nbconvert_exporter": "python",
      "pygments_lexer": "ipython3",
      "version": "3.12.6"
    }
  },
  "nbformat": 4,
  "nbformat_minor": 0
}
